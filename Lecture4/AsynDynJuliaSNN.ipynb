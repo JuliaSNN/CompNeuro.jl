{
 "cells": [
  {
   "cell_type": "code",
   "execution_count": null,
   "id": "806f39b4",
   "metadata": {},
   "outputs": [],
   "source": [
    "using DrWatson\n",
    "findproject(@__DIR__) |> quickactivate\n",
    "\n",
    "using SpikingNeuralNetworks\n",
    "using UnPack\n",
    "using Logging\n",
    "using Plots\n",
    "\n",
    "global_logger(ConsoleLogger())\n",
    "SNN.@load_units"
   ]
  },
  {
   "cell_type": "code",
   "execution_count": null,
   "id": "f17cdff7",
   "metadata": {},
   "outputs": [],
   "source": [
    "model = network(Zerlaut2019_network) \n",
    "SNN.print_model(model)\n",
    "SNN.sim!(model, duration=5s)"
   ]
  },
  {
   "cell_type": "code",
   "execution_count": null,
   "id": "3bf83dfd",
   "metadata": {},
   "outputs": [],
   "source": [
    "SNN.raster(model.pop, every=5, title=\"Raster plot of the balanced network\")"
   ]
  },
  {
   "cell_type": "code",
   "execution_count": null,
   "id": "26ab3db7",
   "metadata": {
    "lines_to_next_cell": 2
   },
   "outputs": [],
   "source": [
    "WAVE = (\n",
    "    Faff1= 4.,\n",
    "    Faff2= 20,\n",
    "    Faff3 =8.,\n",
    "    DT= 900.,\n",
    "    rise =50.\n",
    ")\n",
    "using SpecialFunctions\n",
    "waveform = zeros(3000)\n",
    "t = 1:3000\n",
    "for (tt, fa) in zip(2 .*wave.rise .+(0:2) .*(3 .*wave.rise + wave.DT), [wave.Faff1, wave.Faff2, wave.Faff3])\n",
    "    waveform .+= fa .* (1 .+erf.((t .-tt) ./wave.rise)) .* (1 .+erf.(-(t.-tt.-wave.DT)./wave.rise))./4\n",
    "end\n",
    "\n",
    "plot(waveform, xlabel=\"Time (ms)\", ylabel=\"Afferent rate (Hz)\", title=\"Afferent waveform\", legend=false, lw=4, c=:black)"
   ]
  },
  {
   "cell_type": "markdown",
   "id": "bd736eb7",
   "metadata": {},
   "source": [
    "Run simulation with varying input"
   ]
  },
  {
   "cell_type": "code",
   "execution_count": null,
   "id": "736614aa",
   "metadata": {},
   "outputs": [],
   "source": [
    "SNN.reset_time!(model)\n",
    "SNN.clear_records!(model)\n",
    "SNN.monitor!(model.pop, [:v])\n",
    "for t in 1:3000\n",
    "    model.stim.afferentE.param.rates .= waveform[t] .*Hz\n",
    "    model.stim.afferentI.param.rates .= waveform[t] .*Hz\n",
    "    SNN.sim!(model, duration=1ms)\n",
    "end"
   ]
  },
  {
   "cell_type": "code",
   "execution_count": null,
   "id": "c0caf957",
   "metadata": {},
   "outputs": [],
   "source": [
    "fr, r, labels = SNN.firing_rate(model.pop, interval=0f0:10ms:3s, pop_average=true);\n",
    "plot(r, fr, labels=hcat(labels...), xlabel=\"Time (s)\", ylabel=\"Firing rate (Hz)\", title=\"Population firing rates\", lw=2)"
   ]
  },
  {
   "cell_type": "code",
   "execution_count": null,
   "id": "9f84d6df",
   "metadata": {
    "lines_to_next_cell": 2
   },
   "outputs": [],
   "source": [
    "v , r = SNN.record(model.pop.E, :v, interval=0f0:10ms:3s, range=true);\n",
    "plotsE = map(1:3) do i\n",
    "    plot(r, v[i,:], xlabel=\"Time (s)\", ylabel=\"Potential (mV)\", label=\"Exc $i\",  lw=2, c=:darkblue)\n",
    "end\n",
    "v , r = SNN.record(model.pop.I, :v, interval=0f0:10ms:3s, range=true);\n",
    "plotsI = map(1:3) do i\n",
    "    plot(r, v[i,:], xlabel=\"Time (s)\", ylabel=\"Potential (mV)\", label=\"Inh $i\",  lw=2, c=:darkred)\n",
    "end\n",
    "plots = vcat(plotsE..., plotsI...)\n",
    "plot(plots..., layout=(3,2), plot_title=\"Neuron membrane (mV)\", size=(900,600))"
   ]
  }
 ],
 "metadata": {
  "jupytext": {
   "cell_metadata_filter": "-all",
   "custom_cell_magics": "kql"
  },
  "kernelspec": {
   "display_name": "Julia 1.11.5",
   "language": "julia",
   "name": "julia-1.11"
  },
  "language_info": {
   "file_extension": ".jl",
   "mimetype": "application/julia",
   "name": "julia",
   "version": "1.11.5"
  }
 },
 "nbformat": 4,
 "nbformat_minor": 5
}
